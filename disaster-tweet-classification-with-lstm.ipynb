{
 "cells": [
  {
   "cell_type": "markdown",
   "metadata": {
    "papermill": {
     "duration": 0.031459,
     "end_time": "2021-05-04T15:53:48.815195",
     "exception": false,
     "start_time": "2021-05-04T15:53:48.783736",
     "status": "completed"
    },
    "tags": []
   },
   "source": [
    "#### So, let's start our code by importing libraries required"
   ]
  },
  {
   "cell_type": "code",
   "execution_count": 32,
   "metadata": {
    "_cell_guid": "b1076dfc-b9ad-4769-8c92-a6c4dae69d19",
    "_uuid": "8f2839f25d086af736a60e9eeb907d3b93b6e0e5",
    "execution": {
     "iopub.execute_input": "2021-05-04T15:53:48.884558Z",
     "iopub.status.busy": "2021-05-04T15:53:48.883350Z",
     "iopub.status.idle": "2021-05-04T15:53:50.648886Z",
     "shell.execute_reply": "2021-05-04T15:53:50.649577Z"
    },
    "papermill": {
     "duration": 1.802248,
     "end_time": "2021-05-04T15:53:50.649871",
     "exception": false,
     "start_time": "2021-05-04T15:53:48.847623",
     "status": "completed"
    },
    "tags": []
   },
   "outputs": [],
   "source": [
    "import pandas as pd\n",
    "import numpy as np\n",
    "import seaborn as sns\n",
    "sns.set_style(\"darkgrid\")\n",
    "import matplotlib.pyplot as plt\n",
    "%matplotlib inline\n",
    "import warnings\n",
    "warnings.simplefilter(action='ignore', category=Warning)\n",
    "import re\n",
    "import nltk\n",
    "from nltk.corpus import stopwords\n",
    "from tqdm import tqdm"
   ]
  },
  {
   "cell_type": "markdown",
   "metadata": {
    "papermill": {
     "duration": 0.031779,
     "end_time": "2021-05-04T15:53:50.714563",
     "exception": false,
     "start_time": "2021-05-04T15:53:50.682784",
     "status": "completed"
    },
    "tags": []
   },
   "source": [
    "#### Let's import the Dataset"
   ]
  },
  {
   "cell_type": "code",
   "execution_count": 33,
   "metadata": {
    "execution": {
     "iopub.execute_input": "2021-05-04T15:53:50.785178Z",
     "iopub.status.busy": "2021-05-04T15:53:50.784197Z",
     "iopub.status.idle": "2021-05-04T15:53:50.864496Z",
     "shell.execute_reply": "2021-05-04T15:53:50.864994Z"
    },
    "papermill": {
     "duration": 0.117997,
     "end_time": "2021-05-04T15:53:50.865174",
     "exception": false,
     "start_time": "2021-05-04T15:53:50.747177",
     "status": "completed"
    },
    "tags": []
   },
   "outputs": [],
   "source": [
    "df = pd.read_csv(\"train.csv\")\n",
    "test = pd.read_csv(\"test.csv\")"
   ]
  },
  {
   "cell_type": "code",
   "execution_count": 34,
   "metadata": {
    "execution": {
     "iopub.execute_input": "2021-05-04T15:53:50.933843Z",
     "iopub.status.busy": "2021-05-04T15:53:50.932843Z",
     "iopub.status.idle": "2021-05-04T15:53:50.960336Z",
     "shell.execute_reply": "2021-05-04T15:53:50.959820Z"
    },
    "papermill": {
     "duration": 0.062825,
     "end_time": "2021-05-04T15:53:50.960479",
     "exception": false,
     "start_time": "2021-05-04T15:53:50.897654",
     "status": "completed"
    },
    "tags": []
   },
   "outputs": [
    {
     "data": {
      "text/html": [
       "<div>\n",
       "<style scoped>\n",
       "    .dataframe tbody tr th:only-of-type {\n",
       "        vertical-align: middle;\n",
       "    }\n",
       "\n",
       "    .dataframe tbody tr th {\n",
       "        vertical-align: top;\n",
       "    }\n",
       "\n",
       "    .dataframe thead th {\n",
       "        text-align: right;\n",
       "    }\n",
       "</style>\n",
       "<table border=\"1\" class=\"dataframe\">\n",
       "  <thead>\n",
       "    <tr style=\"text-align: right;\">\n",
       "      <th></th>\n",
       "      <th>id</th>\n",
       "      <th>keyword</th>\n",
       "      <th>location</th>\n",
       "      <th>text</th>\n",
       "      <th>target</th>\n",
       "    </tr>\n",
       "  </thead>\n",
       "  <tbody>\n",
       "    <tr>\n",
       "      <th>0</th>\n",
       "      <td>1</td>\n",
       "      <td>NaN</td>\n",
       "      <td>NaN</td>\n",
       "      <td>Our Deeds are the Reason of this #earthquake M...</td>\n",
       "      <td>1</td>\n",
       "    </tr>\n",
       "    <tr>\n",
       "      <th>1</th>\n",
       "      <td>4</td>\n",
       "      <td>NaN</td>\n",
       "      <td>NaN</td>\n",
       "      <td>Forest fire near La Ronge Sask. Canada</td>\n",
       "      <td>1</td>\n",
       "    </tr>\n",
       "    <tr>\n",
       "      <th>2</th>\n",
       "      <td>5</td>\n",
       "      <td>NaN</td>\n",
       "      <td>NaN</td>\n",
       "      <td>All residents asked to 'shelter in place' are ...</td>\n",
       "      <td>1</td>\n",
       "    </tr>\n",
       "    <tr>\n",
       "      <th>3</th>\n",
       "      <td>6</td>\n",
       "      <td>NaN</td>\n",
       "      <td>NaN</td>\n",
       "      <td>13,000 people receive #wildfires evacuation or...</td>\n",
       "      <td>1</td>\n",
       "    </tr>\n",
       "    <tr>\n",
       "      <th>4</th>\n",
       "      <td>7</td>\n",
       "      <td>NaN</td>\n",
       "      <td>NaN</td>\n",
       "      <td>Just got sent this photo from Ruby #Alaska as ...</td>\n",
       "      <td>1</td>\n",
       "    </tr>\n",
       "  </tbody>\n",
       "</table>\n",
       "</div>"
      ],
      "text/plain": [
       "   id keyword location                                               text  \\\n",
       "0   1     NaN      NaN  Our Deeds are the Reason of this #earthquake M...   \n",
       "1   4     NaN      NaN             Forest fire near La Ronge Sask. Canada   \n",
       "2   5     NaN      NaN  All residents asked to 'shelter in place' are ...   \n",
       "3   6     NaN      NaN  13,000 people receive #wildfires evacuation or...   \n",
       "4   7     NaN      NaN  Just got sent this photo from Ruby #Alaska as ...   \n",
       "\n",
       "   target  \n",
       "0       1  \n",
       "1       1  \n",
       "2       1  \n",
       "3       1  \n",
       "4       1  "
      ]
     },
     "execution_count": 34,
     "metadata": {},
     "output_type": "execute_result"
    }
   ],
   "source": [
    "df.head()"
   ]
  },
  {
   "cell_type": "code",
   "execution_count": 35,
   "metadata": {
    "execution": {
     "iopub.execute_input": "2021-05-04T15:53:51.031507Z",
     "iopub.status.busy": "2021-05-04T15:53:51.030542Z",
     "iopub.status.idle": "2021-05-04T15:53:51.035906Z",
     "shell.execute_reply": "2021-05-04T15:53:51.036367Z"
    },
    "papermill": {
     "duration": 0.041845,
     "end_time": "2021-05-04T15:53:51.036556",
     "exception": false,
     "start_time": "2021-05-04T15:53:50.994711",
     "status": "completed"
    },
    "tags": []
   },
   "outputs": [
    {
     "data": {
      "text/plain": [
       "((7613, 5), (3263, 4))"
      ]
     },
     "execution_count": 35,
     "metadata": {},
     "output_type": "execute_result"
    }
   ],
   "source": [
    "df.shape, test.shape"
   ]
  },
  {
   "cell_type": "markdown",
   "metadata": {
    "papermill": {
     "duration": 0.033083,
     "end_time": "2021-05-04T15:53:51.102955",
     "exception": false,
     "start_time": "2021-05-04T15:53:51.069872",
     "status": "completed"
    },
    "tags": []
   },
   "source": [
    "#### Plotting the number of  disaster and non disaster tweets"
   ]
  },
  {
   "cell_type": "code",
   "execution_count": 36,
   "metadata": {
    "execution": {
     "iopub.execute_input": "2021-05-04T15:53:51.173711Z",
     "iopub.status.busy": "2021-05-04T15:53:51.172719Z",
     "iopub.status.idle": "2021-05-04T15:53:51.432236Z",
     "shell.execute_reply": "2021-05-04T15:53:51.432723Z"
    },
    "papermill": {
     "duration": 0.296232,
     "end_time": "2021-05-04T15:53:51.432900",
     "exception": false,
     "start_time": "2021-05-04T15:53:51.136668",
     "status": "completed"
    },
    "tags": []
   },
   "outputs": [
    {
     "data": {
      "image/png": "[encoded data removed]",
      "text/plain": [
       "<Figure size 432x288 with 1 Axes>"
      ]
     },
     "metadata": {
      "needs_background": "light"
     },
     "output_type": "display_data"
    }
   ],
   "source": [
    "sns.countplot(df[\"target\"]);"
   ]
  },
  {
   "cell_type": "code",
   "execution_count": 37,
   "metadata": {
    "execution": {
     "iopub.execute_input": "2021-05-04T15:53:51.507207Z",
     "iopub.status.busy": "2021-05-04T15:53:51.506186Z",
     "iopub.status.idle": "2021-05-04T15:53:51.533216Z",
     "shell.execute_reply": "2021-05-04T15:53:51.533731Z"
    },
    "papermill": {
     "duration": 0.065533,
     "end_time": "2021-05-04T15:53:51.533912",
     "exception": false,
     "start_time": "2021-05-04T15:53:51.468379",
     "status": "completed"
    },
    "tags": []
   },
   "outputs": [
    {
     "data": {
      "text/plain": [
       "0    0.57034\n",
       "1    0.42966\n",
       "Name: target, dtype: float64"
      ]
     },
     "execution_count": 37,
     "metadata": {},
     "output_type": "execute_result"
    }
   ],
   "source": [
    "df[\"target\"].value_counts(normalize = True) #normalized value counts"
   ]
  },
  {
   "cell_type": "markdown",
   "metadata": {
    "papermill": {
     "duration": 0.034389,
     "end_time": "2021-05-04T15:53:51.603335",
     "exception": false,
     "start_time": "2021-05-04T15:53:51.568946",
     "status": "completed"
    },
    "tags": []
   },
   "source": [
    "#### Creating a function for plotting a histogram (for length of tweets)"
   ]
  },
  {
   "cell_type": "code",
   "execution_count": 38,
   "metadata": {
    "execution": {
     "iopub.execute_input": "2021-05-04T15:53:51.676517Z",
     "iopub.status.busy": "2021-05-04T15:53:51.675489Z",
     "iopub.status.idle": "2021-05-04T15:53:51.680351Z",
     "shell.execute_reply": "2021-05-04T15:53:51.680842Z"
    },
    "papermill": {
     "duration": 0.042942,
     "end_time": "2021-05-04T15:53:51.681018",
     "exception": false,
     "start_time": "2021-05-04T15:53:51.638076",
     "status": "completed"
    },
    "tags": []
   },
   "outputs": [],
   "source": [
    "def len_plot(data, name):\n",
    "  length = [len(sent.split()) for sent in data]\n",
    "  plt.hist(length)\n",
    "  plt.title(name)"
   ]
  },
  {
   "cell_type": "code",
   "execution_count": 39,
   "metadata": {
    "execution": {
     "iopub.execute_input": "2021-05-04T15:53:51.754923Z",
     "iopub.status.busy": "2021-05-04T15:53:51.753949Z",
     "iopub.status.idle": "2021-05-04T15:53:51.999776Z",
     "shell.execute_reply": "2021-05-04T15:53:52.000261Z"
    },
    "papermill": {
     "duration": 0.283995,
     "end_time": "2021-05-04T15:53:52.000465",
     "exception": false,
     "start_time": "2021-05-04T15:53:51.716470",
     "status": "completed"
    },
    "tags": []
   },
   "outputs": [
    {
     "data": {
      "image/png": "[encoded data removed]",
      "text/plain": [
       "<Figure size 432x288 with 1 Axes>"
      ]
     },
     "metadata": {
      "needs_background": "light"
     },
     "output_type": "display_data"
    }
   ],
   "source": [
    "len_plot(df[df[\"target\"]==0][\"text\"], \"Not Disaster\") #passing non disaster tweets"
   ]
  },
  {
   "cell_type": "code",
   "execution_count": 40,
   "metadata": {
    "execution": {
     "iopub.execute_input": "2021-05-04T15:53:52.076498Z",
     "iopub.status.busy": "2021-05-04T15:53:52.075472Z",
     "iopub.status.idle": "2021-05-04T15:53:52.311639Z",
     "shell.execute_reply": "2021-05-04T15:53:52.312143Z"
    },
    "papermill": {
     "duration": 0.276138,
     "end_time": "2021-05-04T15:53:52.312333",
     "exception": false,
     "start_time": "2021-05-04T15:53:52.036195",
     "status": "completed"
    },
    "tags": []
   },
   "outputs": [
    {
     "data": {
      "image/png": "[encoded data removed]",
      "text/plain": [
       "<Figure size 432x288 with 1 Axes>"
      ]
     },
     "metadata": {
      "needs_background": "light"
     },
     "output_type": "display_data"
    }
   ],
   "source": [
    "len_plot(df[df[\"target\"]==1][\"text\"], \"Disaster\") #passing disaster tweets"
   ]
  },
  {
   "cell_type": "markdown",
   "metadata": {
    "papermill": {
     "duration": 0.036089,
     "end_time": "2021-05-04T15:53:52.385356",
     "exception": false,
     "start_time": "2021-05-04T15:53:52.349267",
     "status": "completed"
    },
    "tags": []
   },
   "source": [
    "#### Separating input and output features"
   ]
  },
  {
   "cell_type": "code",
   "execution_count": 41,
   "metadata": {
    "execution": {
     "iopub.execute_input": "2021-05-04T15:53:52.463094Z",
     "iopub.status.busy": "2021-05-04T15:53:52.462441Z",
     "iopub.status.idle": "2021-05-04T15:53:52.466260Z",
     "shell.execute_reply": "2021-05-04T15:53:52.466791Z"
    },
    "papermill": {
     "duration": 0.044961,
     "end_time": "2021-05-04T15:53:52.466951",
     "exception": false,
     "start_time": "2021-05-04T15:53:52.421990",
     "status": "completed"
    },
    "tags": []
   },
   "outputs": [],
   "source": [
    "X = df[\"text\"] # indpendent\n",
    "y = df[\"target\"] # dependent\n",
    "y = np.array(y) # converting into array"
   ]
  },
  {
   "cell_type": "markdown",
   "metadata": {
    "papermill": {
     "duration": 0.036221,
     "end_time": "2021-05-04T15:53:52.539949",
     "exception": false,
     "start_time": "2021-05-04T15:53:52.503728",
     "status": "completed"
    },
    "tags": []
   },
   "source": [
    "#### Function for finding the number of unique words in our dataset"
   ]
  },
  {
   "cell_type": "code",
   "execution_count": 42,
   "metadata": {
    "execution": {
     "iopub.execute_input": "2021-05-04T15:53:52.616336Z",
     "iopub.status.busy": "2021-05-04T15:53:52.615674Z",
     "iopub.status.idle": "2021-05-04T15:54:03.308707Z",
     "shell.execute_reply": "2021-05-04T15:54:03.308000Z"
    },
    "papermill": {
     "duration": 10.732378,
     "end_time": "2021-05-04T15:54:03.308854",
     "exception": false,
     "start_time": "2021-05-04T15:53:52.576476",
     "status": "completed"
    },
    "tags": []
   },
   "outputs": [
    {
     "name": "stderr",
     "output_type": "stream",
     "text": [
      "100%|█████████████████████████████████████████████████████████████████████████████| 7613/7613 [00:09<00:00, 779.94it/s]\n"
     ]
    }
   ],
   "source": [
    "def unique_words(text):\n",
    "  unique_words_list = []\n",
    "  for sent in tqdm(text):\n",
    "    for word in sent.split():\n",
    "      if word.lower() not in unique_words_list:\n",
    "        unique_words_list.append(word.lower())\n",
    "      else:\n",
    "        pass\n",
    "  return unique_words_list\n",
    "un_words = unique_words(X)"
   ]
  },
  {
   "cell_type": "code",
   "execution_count": 43,
   "metadata": {
    "execution": {
     "iopub.execute_input": "2021-05-04T15:54:03.451004Z",
     "iopub.status.busy": "2021-05-04T15:54:03.450291Z",
     "iopub.status.idle": "2021-05-04T15:54:03.455906Z",
     "shell.execute_reply": "2021-05-04T15:54:03.455034Z"
    },
    "papermill": {
     "duration": 0.07825,
     "end_time": "2021-05-04T15:54:03.456123",
     "exception": false,
     "start_time": "2021-05-04T15:54:03.377873",
     "status": "completed"
    },
    "tags": []
   },
   "outputs": [
    {
     "name": "stdout",
     "output_type": "stream",
     "text": [
      "Total number of unique words : 27983\n"
     ]
    }
   ],
   "source": [
    "print(\"Total number of unique words :\",len(un_words))"
   ]
  },
  {
   "cell_type": "code",
   "execution_count": 44,
   "metadata": {
    "execution": {
     "iopub.execute_input": "2021-05-04T15:54:03.597668Z",
     "iopub.status.busy": "2021-05-04T15:54:03.596844Z",
     "iopub.status.idle": "2021-05-04T15:54:03.601519Z",
     "shell.execute_reply": "2021-05-04T15:54:03.600887Z"
    },
    "papermill": {
     "duration": 0.077064,
     "end_time": "2021-05-04T15:54:03.601658",
     "exception": false,
     "start_time": "2021-05-04T15:54:03.524594",
     "status": "completed"
    },
    "scrolled": true,
    "tags": []
   },
   "outputs": [
    {
     "data": {
      "text/plain": [
       "['our',\n",
       " 'deeds',\n",
       " 'are',\n",
       " 'the',\n",
       " 'reason',\n",
       " 'of',\n",
       " 'this',\n",
       " '#earthquake',\n",
       " 'may',\n",
       " 'allah',\n",
       " 'forgive',\n",
       " 'us',\n",
       " 'all',\n",
       " 'forest',\n",
       " 'fire',\n",
       " 'near',\n",
       " 'la',\n",
       " 'ronge',\n",
       " 'sask.',\n",
       " 'canada',\n",
       " 'residents',\n",
       " 'asked',\n",
       " 'to',\n",
       " \"'shelter\",\n",
       " 'in',\n",
       " \"place'\",\n",
       " 'being',\n",
       " 'notified',\n",
       " 'by',\n",
       " 'officers.',\n",
       " 'no',\n",
       " 'other',\n",
       " 'evacuation',\n",
       " 'or',\n",
       " 'shelter',\n",
       " 'place',\n",
       " 'orders',\n",
       " 'expected',\n",
       " '13,000',\n",
       " 'people',\n",
       " 'receive',\n",
       " '#wildfires',\n",
       " 'california',\n",
       " 'just',\n",
       " 'got',\n",
       " 'sent',\n",
       " 'photo',\n",
       " 'from',\n",
       " 'ruby',\n",
       " '#alaska']"
      ]
     },
     "execution_count": 44,
     "metadata": {},
     "output_type": "execute_result"
    }
   ],
   "source": [
    "un_words[:50]"
   ]
  },
  {
   "cell_type": "markdown",
   "metadata": {
    "papermill": {
     "duration": 0.069013,
     "end_time": "2021-05-04T15:54:03.740135",
     "exception": false,
     "start_time": "2021-05-04T15:54:03.671122",
     "status": "completed"
    },
    "tags": []
   },
   "source": [
    "#### As it is a twitter dataset, it contains several words starting with \"@\" and \"#\". Let's find this words"
   ]
  },
  {
   "cell_type": "markdown",
   "metadata": {
    "papermill": {
     "duration": 0.067676,
     "end_time": "2021-05-04T15:54:03.876504",
     "exception": false,
     "start_time": "2021-05-04T15:54:03.808828",
     "status": "completed"
    },
    "tags": []
   },
   "source": [
    "#### words with starting letter \"#\""
   ]
  },
  {
   "cell_type": "code",
   "execution_count": 45,
   "metadata": {
    "execution": {
     "iopub.execute_input": "2021-05-04T15:54:04.025216Z",
     "iopub.status.busy": "2021-05-04T15:54:04.024255Z",
     "iopub.status.idle": "2021-05-04T15:54:04.028801Z",
     "shell.execute_reply": "2021-05-04T15:54:04.028159Z"
    },
    "papermill": {
     "duration": 0.084118,
     "end_time": "2021-05-04T15:54:04.028939",
     "exception": false,
     "start_time": "2021-05-04T15:54:03.944821",
     "status": "completed"
    },
    "tags": []
   },
   "outputs": [
    {
     "data": {
      "text/plain": [
       "1965"
      ]
     },
     "execution_count": 45,
     "metadata": {},
     "output_type": "execute_result"
    }
   ],
   "source": [
    "SYMBOL1 = \"#\"\n",
    "words_sym1 = [word for word in un_words if word.startswith(SYMBOL1)]\n",
    "len(words_sym1)"
   ]
  },
  {
   "cell_type": "code",
   "execution_count": 46,
   "metadata": {
    "execution": {
     "iopub.execute_input": "2021-05-04T15:54:04.168944Z",
     "iopub.status.busy": "2021-05-04T15:54:04.168147Z",
     "iopub.status.idle": "2021-05-04T15:54:04.171583Z",
     "shell.execute_reply": "2021-05-04T15:54:04.170943Z"
    },
    "papermill": {
     "duration": 0.075795,
     "end_time": "2021-05-04T15:54:04.171724",
     "exception": false,
     "start_time": "2021-05-04T15:54:04.095929",
     "status": "completed"
    },
    "scrolled": true,
    "tags": []
   },
   "outputs": [
    {
     "data": {
      "text/plain": [
       "['#earthquake',\n",
       " '#wildfires',\n",
       " '#alaska',\n",
       " '#rockyfire',\n",
       " '#cafire',\n",
       " '#flood',\n",
       " '#disaster',\n",
       " '#flooding',\n",
       " '#raining',\n",
       " '#florida',\n",
       " '#tampabay',\n",
       " '#tampa',\n",
       " '#we',\n",
       " '#breaking',\n",
       " '#metal',\n",
       " '#rt',\n",
       " '#africanbaze:',\n",
       " '#mufc',\n",
       " '#bridgetown',\n",
       " '#nsfw',\n",
       " '#kurds',\n",
       " '#diyala',\n",
       " '#california',\n",
       " '#climate',\n",
       " '#energy',\n",
       " '#nowplaying:',\n",
       " '#edm',\n",
       " '#nashvilletraffic.',\n",
       " '#santaclara',\n",
       " '#bayarea',\n",
       " '#traffic',\n",
       " '#personalinjury',\n",
       " '#solicitor',\n",
       " '#otleyhour',\n",
       " '#stlouis',\n",
       " '#caraccidentlawyer',\n",
       " '#truckcrash',\n",
       " '#fortworth',\n",
       " '#ashville',\n",
       " '#manchester',\n",
       " '#breaking:',\n",
       " '#hagerstown',\n",
       " '#whag',\n",
       " '#bahrain',\n",
       " '#dubstep',\n",
       " '#trapmusic',\n",
       " '#dnb',\n",
       " '#dance',\n",
       " '#ices\\x89û_',\n",
       " '#growingupspoiled']"
      ]
     },
     "execution_count": 46,
     "metadata": {},
     "output_type": "execute_result"
    }
   ],
   "source": [
    "words_sym1[:50]"
   ]
  },
  {
   "cell_type": "markdown",
   "metadata": {
    "papermill": {
     "duration": 0.066038,
     "end_time": "2021-05-04T15:54:04.304924",
     "exception": false,
     "start_time": "2021-05-04T15:54:04.238886",
     "status": "completed"
    },
    "tags": []
   },
   "source": [
    "#### words with starting letter \"@\""
   ]
  },
  {
   "cell_type": "code",
   "execution_count": 47,
   "metadata": {
    "execution": {
     "iopub.execute_input": "2021-05-04T15:54:04.449339Z",
     "iopub.status.busy": "2021-05-04T15:54:04.448444Z",
     "iopub.status.idle": "2021-05-04T15:54:04.451740Z",
     "shell.execute_reply": "2021-05-04T15:54:04.452223Z"
    },
    "papermill": {
     "duration": 0.0807,
     "end_time": "2021-05-04T15:54:04.452406",
     "exception": false,
     "start_time": "2021-05-04T15:54:04.371706",
     "status": "completed"
    },
    "tags": []
   },
   "outputs": [
    {
     "data": {
      "text/plain": [
       "2264"
      ]
     },
     "execution_count": 47,
     "metadata": {},
     "output_type": "execute_result"
    }
   ],
   "source": [
    "# words with starting letter \"@\"\n",
    "SYMBOL2 = \"@\"\n",
    "words_sym2 = [word for word in un_words if word.startswith(SYMBOL2)]\n",
    "len(words_sym2)"
   ]
  },
  {
   "cell_type": "code",
   "execution_count": 48,
   "metadata": {
    "execution": {
     "iopub.execute_input": "2021-05-04T15:54:04.590331Z",
     "iopub.status.busy": "2021-05-04T15:54:04.589293Z",
     "iopub.status.idle": "2021-05-04T15:54:04.596006Z",
     "shell.execute_reply": "2021-05-04T15:54:04.596687Z"
    },
    "papermill": {
     "duration": 0.077262,
     "end_time": "2021-05-04T15:54:04.596859",
     "exception": false,
     "start_time": "2021-05-04T15:54:04.519597",
     "status": "completed"
    },
    "scrolled": true,
    "tags": []
   },
   "outputs": [
    {
     "data": {
      "text/plain": [
       "['@bbcmtd',\n",
       " '@phdsquares',\n",
       " '@southridgelife',\n",
       " '@\\x89û_',\n",
       " '@navista7',\n",
       " '@news24680',\n",
       " '@nxwestmidlands',\n",
       " '@ablaze',\n",
       " '@sleepjunkies:',\n",
       " '@your4state.',\n",
       " '@flowri',\n",
       " '@aftershock_delo',\n",
       " '@djicemoon',\n",
       " '@kjfordays',\n",
       " '@esquireattire',\n",
       " '@onfireanders',\n",
       " '@cod8sandscrims',\n",
       " '@empirikgaming',\n",
       " '@codawscrims',\n",
       " '@4tp_kotc',\n",
       " '@4tpfa',\n",
       " '@aftershock_org',\n",
       " '@crobscarla',\n",
       " '@alexalltimelow',\n",
       " '@youtube',\n",
       " '@mickinyman',\n",
       " '@theatlantic',\n",
       " '@20skyhawkmm20',\n",
       " '@traplord_29',\n",
       " '@fredosantana300',\n",
       " '@lilreese300',\n",
       " '@tanslash',\n",
       " '@fouseytube',\n",
       " '@thenissonian',\n",
       " '@rejectdcartoons',\n",
       " '@kiwi_karyn',\n",
       " '@medic914',\n",
       " '@aace_org',\n",
       " '@marksmaponyane',\n",
       " '@volfan326',\n",
       " '@tneazzy',\n",
       " '@acarewornheart',\n",
       " '@viralspell',\n",
       " '@amirkingkhan',\n",
       " '@floydmayweather',\n",
       " '@violentfeminazi',\n",
       " '@philipduncan',\n",
       " '@breakfastone',\n",
       " '@stormbeard',\n",
       " '@steel_lord']"
      ]
     },
     "execution_count": 48,
     "metadata": {},
     "output_type": "execute_result"
    }
   ],
   "source": [
    "words_sym2[:50]"
   ]
  },
  {
   "cell_type": "markdown",
   "metadata": {
    "papermill": {
     "duration": 0.06989,
     "end_time": "2021-05-04T15:54:04.737601",
     "exception": false,
     "start_time": "2021-05-04T15:54:04.667711",
     "status": "completed"
    },
    "tags": []
   },
   "source": [
    "Since many of the words starting with \"@\" doesn't give any impact to our model accuracy, so we need to remove it"
   ]
  },
  {
   "cell_type": "markdown",
   "metadata": {
    "papermill": {
     "duration": 0.071551,
     "end_time": "2021-05-04T15:54:04.880464",
     "exception": false,
     "start_time": "2021-05-04T15:54:04.808913",
     "status": "completed"
    },
    "tags": []
   },
   "source": [
    "#### Function for url removing"
   ]
  },
  {
   "cell_type": "code",
   "execution_count": 49,
   "metadata": {
    "execution": {
     "iopub.execute_input": "2021-05-04T15:54:05.027852Z",
     "iopub.status.busy": "2021-05-04T15:54:05.026869Z",
     "iopub.status.idle": "2021-05-04T15:54:05.032868Z",
     "shell.execute_reply": "2021-05-04T15:54:05.032295Z"
    },
    "papermill": {
     "duration": 0.080681,
     "end_time": "2021-05-04T15:54:05.033037",
     "exception": false,
     "start_time": "2021-05-04T15:54:04.952356",
     "status": "completed"
    },
    "tags": []
   },
   "outputs": [],
   "source": [
    "def remove_urls(text):\n",
    "    url_pattern = re.compile(r'https?://\\S+|www\\.\\S+')\n",
    "    return url_pattern.sub(r'', text)"
   ]
  },
  {
   "cell_type": "markdown",
   "metadata": {
    "papermill": {
     "duration": 0.068904,
     "end_time": "2021-05-04T15:54:05.171252",
     "exception": false,
     "start_time": "2021-05-04T15:54:05.102348",
     "status": "completed"
    },
    "tags": []
   },
   "source": [
    "#### Lemmatizer"
   ]
  },
  {
   "cell_type": "code",
   "execution_count": 50,
   "metadata": {
    "execution": {
     "iopub.execute_input": "2021-05-04T15:54:05.314976Z",
     "iopub.status.busy": "2021-05-04T15:54:05.314178Z",
     "iopub.status.idle": "2021-05-04T15:54:05.316666Z",
     "shell.execute_reply": "2021-05-04T15:54:05.317101Z"
    },
    "papermill": {
     "duration": 0.077755,
     "end_time": "2021-05-04T15:54:05.317269",
     "exception": false,
     "start_time": "2021-05-04T15:54:05.239514",
     "status": "completed"
    },
    "tags": []
   },
   "outputs": [],
   "source": [
    "from nltk.stem import WordNetLemmatizer\n",
    "wl = WordNetLemmatizer()"
   ]
  },
  {
   "cell_type": "markdown",
   "metadata": {
    "papermill": {
     "duration": 0.070055,
     "end_time": "2021-05-04T15:54:05.457661",
     "exception": false,
     "start_time": "2021-05-04T15:54:05.387606",
     "status": "completed"
    },
    "tags": []
   },
   "source": [
    "#### Preprocessing function"
   ]
  },
  {
   "cell_type": "code",
   "execution_count": 51,
   "metadata": {
    "papermill": {
     "duration": 0.113501,
     "end_time": "2021-05-04T15:54:23.265997",
     "exception": false,
     "start_time": "2021-05-04T15:54:23.152496",
     "status": "completed"
    },
    "tags": []
   },
   "outputs": [
    {
     "name": "stderr",
     "output_type": "stream",
     "text": [
      "[nltk_data] Downloading package stopwords to\n",
      "[nltk_data]     C:\\Users\\shari\\AppData\\Roaming\\nltk_data...\n",
      "[nltk_data]   Package stopwords is already up-to-date!\n",
      "[nltk_data] Downloading package wordnet to\n",
      "[nltk_data]     C:\\Users\\shari\\AppData\\Roaming\\nltk_data...\n",
      "[nltk_data]   Package wordnet is already up-to-date!\n"
     ]
    },
    {
     "data": {
      "text/plain": [
       "True"
      ]
     },
     "execution_count": 51,
     "metadata": {},
     "output_type": "execute_result"
    }
   ],
   "source": [
    "nltk.download('stopwords')\n",
    "nltk.download('wordnet')"
   ]
  },
  {
   "cell_type": "code",
   "execution_count": 52,
   "metadata": {
    "execution": {
     "iopub.execute_input": "2021-05-04T15:54:05.608193Z",
     "iopub.status.busy": "2021-05-04T15:54:05.607354Z",
     "iopub.status.idle": "2021-05-04T15:54:22.804356Z",
     "shell.execute_reply": "2021-05-04T15:54:22.803711Z"
    },
    "papermill": {
     "duration": 17.275845,
     "end_time": "2021-05-04T15:54:22.804498",
     "exception": false,
     "start_time": "2021-05-04T15:54:05.528653",
     "status": "completed"
    },
    "tags": []
   },
   "outputs": [
    {
     "name": "stderr",
     "output_type": "stream",
     "text": [
      "100%|█████████████████████████████████████████████████████████████████████████████| 7613/7613 [00:30<00:00, 253.26it/s]\n"
     ]
    }
   ],
   "source": [
    "def preprocessing(text):\n",
    "  \n",
    "  tweets = []\n",
    "  for tweet in tqdm(text):\n",
    "    tweet = tweet.lower() # converting to lower case\n",
    "    tweet =  remove_urls(tweet) # url removing\n",
    "    tweet = re.sub(r'@\\w+',  '', tweet).strip() # removing the words start with \"@\"\n",
    "    tweet = re.sub(\"[^a-zA-Z0-9 ']\", \"\", tweet) # removing unwanted symbols\n",
    "    tweet = tweet.split()\n",
    "    tweet1 = [wl.lemmatize(word) for word in tweet if word not in set(stopwords.words(\"english\"))] #lemmatization and stopwrds removal\n",
    "    tweet1 = \" \".join(tweet1)\n",
    "    tweets.append(tweet1)\n",
    "  return tweets\n",
    "\n",
    "tweets = preprocessing(X)"
   ]
  },
  {
   "cell_type": "code",
   "execution_count": 53,
   "metadata": {
    "execution": {
     "iopub.execute_input": "2021-05-04T15:54:23.035872Z",
     "iopub.status.busy": "2021-05-04T15:54:23.034953Z",
     "iopub.status.idle": "2021-05-04T15:54:23.039349Z",
     "shell.execute_reply": "2021-05-04T15:54:23.038841Z"
    },
    "papermill": {
     "duration": 0.122922,
     "end_time": "2021-05-04T15:54:23.039489",
     "exception": false,
     "start_time": "2021-05-04T15:54:22.916567",
     "status": "completed"
    },
    "scrolled": true,
    "tags": []
   },
   "outputs": [
    {
     "data": {
      "text/plain": [
       "['deed reason earthquake may allah forgive u',\n",
       " 'forest fire near la ronge sask canada',\n",
       " \"resident asked 'shelter place' notified officer evacuation shelter place order expected\",\n",
       " '13000 people receive wildfire evacuation order california',\n",
       " 'got sent photo ruby alaska smoke wildfire pours school',\n",
       " 'rockyfire update california hwy 20 closed direction due lake county fire cafire wildfire',\n",
       " 'flood disaster heavy rain cause flash flooding street manitou colorado spring area',\n",
       " \"i'm top hill see fire wood\",\n",
       " \"there's emergency evacuation happening building across street\",\n",
       " \"i'm afraid tornado coming area\",\n",
       " 'three people died heat wave far',\n",
       " 'haha south tampa getting flooded hah wait second live south tampa gonna gonna fvck flooding',\n",
       " \"raining flooding florida tampabay tampa 18 19 day i've lost count\",\n",
       " 'flood bago myanmar arrived bago',\n",
       " 'damage school bus 80 multi car crash breaking',\n",
       " \"what's man\",\n",
       " 'love fruit',\n",
       " 'summer lovely',\n",
       " 'car fast',\n",
       " 'goooooooaaaaaal',\n",
       " 'ridiculous',\n",
       " 'london cool',\n",
       " 'love skiing',\n",
       " 'wonderful day',\n",
       " 'looooool',\n",
       " \"wayi can't eat shit\",\n",
       " 'nyc last week',\n",
       " 'love girlfriend',\n",
       " 'cooool',\n",
       " 'like pasta',\n",
       " 'end',\n",
       " 'wholesale market ablaze',\n",
       " 'always try bring heavy metal rt',\n",
       " 'africanbaze breaking newsnigeria flag set ablaze aba',\n",
       " 'cry set ablaze',\n",
       " 'plus side look sky last night ablaze',\n",
       " \"mufc they've built much hype around new acquisition doubt set epl ablaze season\",\n",
       " 'inec office abia set ablaze',\n",
       " 'barbados bridgetown jamaica two car set ablaze santa cruz head st elizabeth police superintende',\n",
       " 'ablaze lord',\n",
       " 'check nsfw',\n",
       " 'outside ablaze alivebut dead inside',\n",
       " 'awesome time visiting cfc head office ancop site ablaze thanks tita vida taking care u',\n",
       " 'soooo pumped ablaze',\n",
       " 'wanted set chicago ablaze preaching hotel',\n",
       " 'gained 3 follower last week know stats grow',\n",
       " 'west burned thousand wildfire ablaze california alone',\n",
       " 'building perfect tracklist life leave street ablaze',\n",
       " 'check nsfw',\n",
       " 'first night retainer quite weird better get used wear every single night next year least']"
      ]
     },
     "execution_count": 53,
     "metadata": {},
     "output_type": "execute_result"
    }
   ],
   "source": [
    "tweets[:50]"
   ]
  },
  {
   "cell_type": "markdown",
   "metadata": {
    "papermill": {
     "duration": 0.113474,
     "end_time": "2021-05-04T15:54:23.492525",
     "exception": false,
     "start_time": "2021-05-04T15:54:23.379051",
     "status": "completed"
    },
    "tags": []
   },
   "source": [
    "### LSTM"
   ]
  },
  {
   "cell_type": "code",
   "execution_count": 54,
   "metadata": {
    "execution": {
     "iopub.execute_input": "2021-05-04T15:54:23.722809Z",
     "iopub.status.busy": "2021-05-04T15:54:23.721799Z",
     "iopub.status.idle": "2021-05-04T15:54:29.450309Z",
     "shell.execute_reply": "2021-05-04T15:54:29.449695Z"
    },
    "papermill": {
     "duration": 5.846213,
     "end_time": "2021-05-04T15:54:29.450515",
     "exception": false,
     "start_time": "2021-05-04T15:54:23.604302",
     "status": "completed"
    },
    "tags": []
   },
   "outputs": [],
   "source": [
    "# importing libraries\n",
    "import tensorflow as tf\n",
    "tf.__version__\n",
    "\n",
    "from tensorflow.keras.layers import (Embedding,\n",
    "                                     LSTM,\n",
    "                                     Dense,\n",
    "                                     Dropout,\n",
    "                                     GlobalMaxPool1D,\n",
    "                                     BatchNormalization)\n",
    "from tensorflow.keras.models import Sequential\n",
    "from tensorflow.keras.preprocessing.sequence import pad_sequences\n",
    "from tensorflow.keras.preprocessing.text import one_hot"
   ]
  },
  {
   "cell_type": "markdown",
   "metadata": {
    "papermill": {
     "duration": 0.114617,
     "end_time": "2021-05-04T15:54:29.684930",
     "exception": false,
     "start_time": "2021-05-04T15:54:29.570313",
     "status": "completed"
    },
    "tags": []
   },
   "source": [
    "#### Performing onehot encoding"
   ]
  },
  {
   "cell_type": "code",
   "execution_count": 55,
   "metadata": {
    "execution": {
     "iopub.execute_input": "2021-05-04T15:54:29.933764Z",
     "iopub.status.busy": "2021-05-04T15:54:29.928600Z",
     "iopub.status.idle": "2021-05-04T15:54:30.031080Z",
     "shell.execute_reply": "2021-05-04T15:54:30.030513Z"
    },
    "papermill": {
     "duration": 0.234416,
     "end_time": "2021-05-04T15:54:30.031340",
     "exception": false,
     "start_time": "2021-05-04T15:54:29.796924",
     "status": "completed"
    },
    "tags": []
   },
   "outputs": [
    {
     "data": {
      "text/plain": [
       "[[21778, 4678, 23921, 18606, 14013, 12539, 21775, 16985],\n",
       " [28514,\n",
       "  20124,\n",
       "  4345,\n",
       "  27407,\n",
       "  26279,\n",
       "  12944,\n",
       "  3008,\n",
       "  14601,\n",
       "  12539,\n",
       "  2606,\n",
       "  17164,\n",
       "  16656],\n",
       " [24909, 23871, 24400, 1245, 1080],\n",
       " [6048, 24135, 26590, 5250, 9882, 698, 24135, 16552, 25352, 8570],\n",
       " [21496, 448, 16743, 10983, 27855, 7871, 17527, 636, 29555, 323],\n",
       " [6590, 16854, 14615, 28760, 24789, 8897, 23307, 19660],\n",
       " [21496, 448, 16743, 10983, 27855, 7871, 17527, 636, 29555, 323],\n",
       " [22549, 29405, 18428, 860, 13014, 28132],\n",
       " [3450, 6680, 27442, 3527, 24909, 6941, 19546, 8994, 1901, 23871, 7367],\n",
       " [6048, 14430, 16429, 23727, 27195, 19297, 22744]]"
      ]
     },
     "execution_count": 55,
     "metadata": {},
     "output_type": "execute_result"
    }
   ],
   "source": [
    "VOC_SIZE = 30000\n",
    "onehot_repr = [one_hot(words, VOC_SIZE) for words in tweets]\n",
    "onehot_repr[100:110]"
   ]
  },
  {
   "cell_type": "code",
   "execution_count": 56,
   "metadata": {
    "execution": {
     "iopub.execute_input": "2021-05-04T15:54:30.268118Z",
     "iopub.status.busy": "2021-05-04T15:54:30.267176Z",
     "iopub.status.idle": "2021-05-04T15:54:30.271027Z",
     "shell.execute_reply": "2021-05-04T15:54:30.271517Z"
    },
    "papermill": {
     "duration": 0.126179,
     "end_time": "2021-05-04T15:54:30.271692",
     "exception": false,
     "start_time": "2021-05-04T15:54:30.145513",
     "status": "completed"
    },
    "tags": []
   },
   "outputs": [
    {
     "data": {
      "text/plain": [
       "7613"
      ]
     },
     "execution_count": 56,
     "metadata": {},
     "output_type": "execute_result"
    }
   ],
   "source": [
    "# finding sentence length for each tweets\n",
    "word_length = []\n",
    "for i in onehot_repr:\n",
    "  word_length.append(len(i))\n",
    "\n",
    "len(word_length)"
   ]
  },
  {
   "cell_type": "code",
   "execution_count": 57,
   "metadata": {
    "execution": {
     "iopub.execute_input": "2021-05-04T15:54:30.503807Z",
     "iopub.status.busy": "2021-05-04T15:54:30.503100Z",
     "iopub.status.idle": "2021-05-04T15:54:30.505806Z",
     "shell.execute_reply": "2021-05-04T15:54:30.506237Z"
    },
    "papermill": {
     "duration": 0.121929,
     "end_time": "2021-05-04T15:54:30.506424",
     "exception": false,
     "start_time": "2021-05-04T15:54:30.384495",
     "status": "completed"
    },
    "scrolled": true,
    "tags": []
   },
   "outputs": [
    {
     "data": {
      "text/plain": [
       "[3,\n",
       " 12,\n",
       " 17,\n",
       " 14,\n",
       " 17,\n",
       " 2,\n",
       " 11,\n",
       " 12,\n",
       " 10,\n",
       " 2,\n",
       " 4,\n",
       " 10,\n",
       " 11,\n",
       " 5,\n",
       " 12,\n",
       " 13,\n",
       " 8,\n",
       " 8,\n",
       " 5,\n",
       " 9,\n",
       " 8,\n",
       " 6,\n",
       " 10,\n",
       " 7,\n",
       " 15,\n",
       " 5,\n",
       " 7,\n",
       " 10,\n",
       " 17,\n",
       " 4,\n",
       " 3,\n",
       " 8,\n",
       " 11,\n",
       " 7,\n",
       " 13,\n",
       " 11,\n",
       " 11,\n",
       " 11,\n",
       " 8,\n",
       " 14,\n",
       " 10,\n",
       " 5,\n",
       " 7,\n",
       " 6,\n",
       " 7,\n",
       " 7,\n",
       " 7,\n",
       " 7,\n",
       " 7,\n",
       " 9]"
      ]
     },
     "execution_count": 57,
     "metadata": {},
     "output_type": "execute_result"
    }
   ],
   "source": [
    "word_length[1100:1150]"
   ]
  },
  {
   "cell_type": "code",
   "execution_count": 58,
   "metadata": {
    "execution": {
     "iopub.execute_input": "2021-05-04T15:54:30.738732Z",
     "iopub.status.busy": "2021-05-04T15:54:30.738107Z",
     "iopub.status.idle": "2021-05-04T15:54:31.000232Z",
     "shell.execute_reply": "2021-05-04T15:54:31.000736Z"
    },
    "papermill": {
     "duration": 0.380038,
     "end_time": "2021-05-04T15:54:31.000918",
     "exception": false,
     "start_time": "2021-05-04T15:54:30.620880",
     "status": "completed"
    },
    "tags": []
   },
   "outputs": [
    {
     "data": {
      "image/png": "[encoded data removed]",
      "text/plain": [
       "<Figure size 432x288 with 1 Axes>"
      ]
     },
     "metadata": {
      "needs_background": "light"
     },
     "output_type": "display_data"
    }
   ],
   "source": [
    "# plotting graph (length of the tweets vs Numbers)\n",
    "plt.hist(word_length)\n",
    "plt.xlabel(\"Length of Words\")\n",
    "plt.ylabel(\"Nos\")\n",
    "plt.show()"
   ]
  },
  {
   "cell_type": "code",
   "execution_count": 60,
   "metadata": {
    "execution": {
     "iopub.execute_input": "2021-05-04T15:54:31.233951Z",
     "iopub.status.busy": "2021-05-04T15:54:31.233265Z",
     "iopub.status.idle": "2021-05-04T15:54:31.239496Z",
     "shell.execute_reply": "2021-05-04T15:54:31.238977Z"
    },
    "papermill": {
     "duration": 0.123486,
     "end_time": "2021-05-04T15:54:31.239649",
     "exception": false,
     "start_time": "2021-05-04T15:54:31.116163",
     "status": "completed"
    },
    "tags": []
   },
   "outputs": [
    {
     "data": {
      "text/plain": [
       "25"
      ]
     },
     "execution_count": 60,
     "metadata": {},
     "output_type": "execute_result"
    }
   ],
   "source": [
    "max(word_length) # lenth of the longest tweet"
   ]
  },
  {
   "cell_type": "markdown",
   "metadata": {
    "papermill": {
     "duration": 0.114551,
     "end_time": "2021-05-04T15:54:31.469482",
     "exception": false,
     "start_time": "2021-05-04T15:54:31.354931",
     "status": "completed"
    },
    "tags": []
   },
   "source": [
    "#### Padding the Sequence"
   ]
  },
  {
   "cell_type": "code",
   "execution_count": 61,
   "metadata": {
    "execution": {
     "iopub.execute_input": "2021-05-04T15:54:31.707735Z",
     "iopub.status.busy": "2021-05-04T15:54:31.706794Z",
     "iopub.status.idle": "2021-05-04T15:54:31.770983Z",
     "shell.execute_reply": "2021-05-04T15:54:31.771455Z"
    },
    "papermill": {
     "duration": 0.187651,
     "end_time": "2021-05-04T15:54:31.771642",
     "exception": false,
     "start_time": "2021-05-04T15:54:31.583991",
     "status": "completed"
    },
    "tags": []
   },
   "outputs": [
    {
     "data": {
      "text/plain": [
       "array([[ 2634,  9991,  4779, ...,     0,     0,     0],\n",
       "       [18864, 29910, 21628, ...,     0,     0,     0],\n",
       "       [18724,   415,  2455, ...,     0,     0,     0],\n",
       "       ...,\n",
       "       [23600,  5075, 16264, ...,     0,     0,     0],\n",
       "       [ 4678, 10529,  4243, ...,  8291, 29804,     0],\n",
       "       [11670, 27943, 17867, ...,     0,     0,     0]])"
      ]
     },
     "execution_count": 61,
     "metadata": {},
     "output_type": "execute_result"
    }
   ],
   "source": [
    "SENT_LENGTH = 15\n",
    "embedded_docs = pad_sequences(onehot_repr, padding=\"post\", maxlen=SENT_LENGTH)\n",
    "embedded_docs"
   ]
  },
  {
   "cell_type": "markdown",
   "metadata": {
    "papermill": {
     "duration": 0.115925,
     "end_time": "2021-05-04T15:54:32.002756",
     "exception": false,
     "start_time": "2021-05-04T15:54:31.886831",
     "status": "completed"
    },
    "tags": []
   },
   "source": [
    "#### Function for model creation"
   ]
  },
  {
   "cell_type": "code",
   "execution_count": 62,
   "metadata": {
    "execution": {
     "iopub.execute_input": "2021-05-04T15:54:32.240816Z",
     "iopub.status.busy": "2021-05-04T15:54:32.240061Z",
     "iopub.status.idle": "2021-05-04T15:54:32.243051Z",
     "shell.execute_reply": "2021-05-04T15:54:32.242466Z"
    },
    "papermill": {
     "duration": 0.124409,
     "end_time": "2021-05-04T15:54:32.243198",
     "exception": false,
     "start_time": "2021-05-04T15:54:32.118789",
     "status": "completed"
    },
    "tags": []
   },
   "outputs": [],
   "source": [
    "def create_model():\n",
    "  VECT_FEATURES = 32\n",
    "  model = Sequential()\n",
    "  model.add(Embedding(VOC_SIZE,\n",
    "                      VECT_FEATURES,\n",
    "                      input_length=SENT_LENGTH))\n",
    "  model.add(LSTM(100, return_sequences = True))\n",
    "  model.add(GlobalMaxPool1D())\n",
    "  model.add(BatchNormalization())\n",
    "  model.add(Dropout(0.5))\n",
    "  model.add(Dense(10, activation=\"relu\"))\n",
    "  model.add(Dropout(0.2))\n",
    "  model.add(Dense(1, activation = \"sigmoid\"))\n",
    "  return model\n"
   ]
  },
  {
   "cell_type": "code",
   "execution_count": 63,
   "metadata": {
    "execution": {
     "iopub.execute_input": "2021-05-04T15:54:32.477953Z",
     "iopub.status.busy": "2021-05-04T15:54:32.477256Z",
     "iopub.status.idle": "2021-05-04T15:54:32.956316Z",
     "shell.execute_reply": "2021-05-04T15:54:32.956923Z"
    },
    "papermill": {
     "duration": 0.598591,
     "end_time": "2021-05-04T15:54:32.957098",
     "exception": false,
     "start_time": "2021-05-04T15:54:32.358507",
     "status": "completed"
    },
    "tags": []
   },
   "outputs": [
    {
     "name": "stdout",
     "output_type": "stream",
     "text": [
      "WARNING:tensorflow:From C:\\Users\\shari\\anaconda3\\lib\\site-packages\\tensorflow\\python\\keras\\initializers.py:119: calling RandomUniform.__init__ (from tensorflow.python.ops.init_ops) with dtype is deprecated and will be removed in a future version.\n",
      "Instructions for updating:\n",
      "Call initializer instance with the dtype argument instead of passing it to the constructor\n",
      "WARNING:tensorflow:From C:\\Users\\shari\\anaconda3\\lib\\site-packages\\tensorflow\\python\\ops\\init_ops.py:1251: calling VarianceScaling.__init__ (from tensorflow.python.ops.init_ops) with dtype is deprecated and will be removed in a future version.\n",
      "Instructions for updating:\n",
      "Call initializer instance with the dtype argument instead of passing it to the constructor\n",
      "WARNING:tensorflow:From C:\\Users\\shari\\anaconda3\\lib\\site-packages\\tensorflow\\python\\ops\\nn_impl.py:180: add_dispatch_support.<locals>.wrapper (from tensorflow.python.ops.array_ops) is deprecated and will be removed in a future version.\n",
      "Instructions for updating:\n",
      "Use tf.where in 2.0, which has the same broadcast rule as np.where\n",
      "Model: \"sequential\"\n",
      "_________________________________________________________________\n",
      "Layer (type)                 Output Shape              Param #   \n",
      "=================================================================\n",
      "embedding (Embedding)        (None, 15, 32)            960000    \n",
      "_________________________________________________________________\n",
      "lstm (LSTM)                  (None, 15, 100)           53200     \n",
      "_________________________________________________________________\n",
      "global_max_pooling1d (Global (None, 100)               0         \n",
      "_________________________________________________________________\n",
      "batch_normalization (BatchNo (None, 100)               400       \n",
      "_________________________________________________________________\n",
      "dropout (Dropout)            (None, 100)               0         \n",
      "_________________________________________________________________\n",
      "dense (Dense)                (None, 10)                1010      \n",
      "_________________________________________________________________\n",
      "dropout_1 (Dropout)          (None, 10)                0         \n",
      "_________________________________________________________________\n",
      "dense_1 (Dense)              (None, 1)                 11        \n",
      "=================================================================\n",
      "Total params: 1,014,621\n",
      "Trainable params: 1,014,421\n",
      "Non-trainable params: 200\n",
      "_________________________________________________________________\n"
     ]
    }
   ],
   "source": [
    "model = create_model()\n",
    "model.compile(optimizer = \"adam\", loss = \"binary_crossentropy\", metrics = [\"accuracy\"]) # compiling\n",
    "model.summary() #summary"
   ]
  },
  {
   "cell_type": "markdown",
   "metadata": {
    "papermill": {
     "duration": 0.115789,
     "end_time": "2021-05-04T15:54:33.189986",
     "exception": false,
     "start_time": "2021-05-04T15:54:33.074197",
     "status": "completed"
    },
    "tags": []
   },
   "source": [
    "#### Training the Model"
   ]
  },
  {
   "cell_type": "code",
   "execution_count": 64,
   "metadata": {
    "execution": {
     "iopub.execute_input": "2021-05-04T15:54:33.425808Z",
     "iopub.status.busy": "2021-05-04T15:54:33.425042Z",
     "iopub.status.idle": "2021-05-04T15:55:09.738848Z",
     "shell.execute_reply": "2021-05-04T15:55:09.738217Z"
    },
    "papermill": {
     "duration": 36.433973,
     "end_time": "2021-05-04T15:55:09.738995",
     "exception": false,
     "start_time": "2021-05-04T15:54:33.305022",
     "status": "completed"
    },
    "tags": []
   },
   "outputs": [
    {
     "name": "stdout",
     "output_type": "stream",
     "text": [
      "Epoch 1/6\n",
      "7613/7613 [==============================] - 7s 859us/sample - loss: 0.5562 - acc: 0.7140\n",
      "Epoch 2/6\n",
      "7613/7613 [==============================] - 6s 770us/sample - loss: 0.3619 - acc: 0.8563\n",
      "Epoch 3/6\n",
      "7613/7613 [==============================] - 6s 740us/sample - loss: 0.2537 - acc: 0.9040\n",
      "Epoch 4/6\n",
      "7613/7613 [==============================] - 6s 758us/sample - loss: 0.1850 - acc: 0.9321\n",
      "Epoch 5/6\n",
      "7613/7613 [==============================] - 6s 792us/sample - loss: 0.1397 - acc: 0.9492\n",
      "Epoch 6/6\n",
      "7613/7613 [==============================] - 6s 770us/sample - loss: 0.1277 - acc: 0.9522\n"
     ]
    }
   ],
   "source": [
    "history = model.fit(embedded_docs, y, epochs=6, batch_size=32)"
   ]
  },
  {
   "cell_type": "markdown",
   "metadata": {
    "papermill": {
     "duration": 0.281525,
     "end_time": "2021-05-04T15:55:10.298029",
     "exception": false,
     "start_time": "2021-05-04T15:55:10.016504",
     "status": "completed"
    },
    "tags": []
   },
   "source": [
    "#### Plotting the graph of model accuracy and loss"
   ]
  },
  {
   "cell_type": "code",
   "execution_count": 67,
   "metadata": {
    "execution": {
     "iopub.execute_input": "2021-05-04T15:55:10.902267Z",
     "iopub.status.busy": "2021-05-04T15:55:10.900668Z",
     "iopub.status.idle": "2021-05-04T15:55:11.195064Z",
     "shell.execute_reply": "2021-05-04T15:55:11.194423Z"
    },
    "papermill": {
     "duration": 0.624452,
     "end_time": "2021-05-04T15:55:11.195200",
     "exception": false,
     "start_time": "2021-05-04T15:55:10.570748",
     "status": "completed"
    },
    "tags": []
   },
   "outputs": [
    {
     "data": {
      "image/png": "[encoded data removed]",
      "text/plain": [
       "<Figure size 720x360 with 2 Axes>"
      ]
     },
     "metadata": {
      "needs_background": "light"
     },
     "output_type": "display_data"
    }
   ],
   "source": [
    "fig,(ax1,ax2) = plt.subplots(1,2,figsize=(10,5))\n",
    "ax1.plot(history.history[\"acc\"])\n",
    "ax1.set_title(\"Accuracy\")\n",
    "ax1.set_xlabel(\"Epochs\")\n",
    "ax1.set_ylabel(\"Accuracy\")\n",
    "\n",
    "ax2.plot(history.history[\"loss\"])\n",
    "ax2.set_title(\"Loss\")\n",
    "ax2.set_xlabel(\"Epochs\")\n",
    "ax2.set_ylabel(\"Loss\")\n",
    "plt.show()"
   ]
  },
  {
   "cell_type": "code",
   "execution_count": null,
   "metadata": {
    "papermill": {
     "duration": 0.277579,
     "end_time": "2021-05-04T15:55:11.751893",
     "exception": false,
     "start_time": "2021-05-04T15:55:11.474314",
     "status": "completed"
    },
    "tags": []
   },
   "outputs": [],
   "source": []
  }
 ],
 "metadata": {
  "kernelspec": {
   "display_name": "Python 3",
   "language": "python",
   "name": "python3"
  },
  "language_info": {
   "codemirror_mode": {
    "name": "ipython",
    "version": 3
   },
   "file_extension": ".py",
   "mimetype": "text/x-python",
   "name": "python",
   "nbconvert_exporter": "python",
   "pygments_lexer": "ipython3",
   "version": "3.7.6"
  },
  "papermill": {
   "default_parameters": {},
   "duration": 94.000664,
   "end_time": "2021-05-04T15:55:14.074143",
   "environment_variables": {},
   "exception": null,
   "input_path": "__notebook__.ipynb",
   "output_path": "__notebook__.ipynb",
   "parameters": {},
   "start_time": "2021-05-04T15:53:40.073479",
   "version": "2.3.3"
  }
 },
 "nbformat": 4,
 "nbformat_minor": 5
}
